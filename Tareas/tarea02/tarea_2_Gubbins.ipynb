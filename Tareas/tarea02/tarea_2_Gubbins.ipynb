{
  "nbformat": 4,
  "nbformat_minor": 0,
  "metadata": {
    "colab": {
      "provenance": []
    },
    "kernelspec": {
      "name": "python3",
      "display_name": "Python 3"
    },
    "language_info": {
      "name": "python"
    }
  },
  "cells": [
    {
      "cell_type": "markdown",
      "source": [
        "Tarea 2 Narración Gráfica."
      ],
      "metadata": {
        "id": "EguYvL7cAdw2"
      }
    },
    {
      "cell_type": "markdown",
      "source": [
        "Problema 1: Hacer un programa que imprima los números del -100 al 200."
      ],
      "metadata": {
        "id": "rvxetVEwAl52"
      }
    },
    {
      "cell_type": "code",
      "source": [
        "#para resolver este programa tengo que programar una suma de uno en uno que inicie en el -100 y termine en el 200\n",
        "#para esto mi variable debe ser -100, pero como esta variable sera igual a la variable +1 (para hacer la suma) la variable pasará a ser -101\n",
        "\n",
        "variable = -101\n",
        "\n",
        "while (variable < 200): #aquí establezco el límite para la suma\n",
        "  variable = variable + 1\n",
        "  print (variable)"
      ],
      "metadata": {
        "id": "ifPv735_AkCG"
      },
      "execution_count": null,
      "outputs": []
    },
    {
      "cell_type": "code",
      "source": [
        "#otra manera\n",
        "\n",
        "for variable in range (-101, 200):#defino el rango en el que quiero la variable para que la suma no sea infinita\n",
        "  variable=variable  +1\n",
        "  print (variable)"
      ],
      "metadata": {
        "id": "_se29s1WKXkl"
      },
      "execution_count": null,
      "outputs": []
    },
    {
      "cell_type": "markdown",
      "source": [
        "Problema 2: Hacer un programa que imprima los números del -100 al 200 que sean divisibles entre 6 (con resto 0)\n",
        "\n",
        "Esto signifca que si el número es 6, 12, 18, etc. entonces debe imprimirlo ya que la división de esos números por 6 da como resto 0, exacto.\n",
        "\n",
        "6 / 6 = 1, resto 0\n",
        "12 / 6 = 2, resto 0\n",
        "Distinto de:\n",
        "\n",
        "7 / 6 = 1, resto 1"
      ],
      "metadata": {
        "id": "T-rmkpRwEn0u"
      }
    },
    {
      "cell_type": "code",
      "source": [
        "\n",
        "for variable in range (-100, 201): #determinamos el rango en el que queremos que se mueva la variable\n",
        "    if variable % 6 == 0: #especificamos que la variable sera solo aquella que dividida por 6 deje resto 0\n",
        "        print (variable)\n"
      ],
      "metadata": {
        "id": "-HrU5NAgGNsW"
      },
      "execution_count": null,
      "outputs": []
    },
    {
      "cell_type": "markdown",
      "source": [
        "Problema 3: Pseudocódigo, Sumador y comparador de dos números\n",
        "Realiza el algoritmo para un sumador de dos números. Si el resultado es menor a 200 se mostrará el mensaje \"menor a 200\", si el resultado es mayor a 200, pero menor a 250 mostrará el mensaje \"mayor a 200\", pero si es mayor a 250 mostrará el mensaje \"mayor a 250\"."
      ],
      "metadata": {
        "id": "U6DieD-3OHUO"
      }
    },
    {
      "cell_type": "code",
      "source": [
        "\n",
        "    num1 = float(input(\"Ingrese el primer número: \")) #pedirle al usuario que ingrese el primer número\n",
        "    num2 = float(input(\"Ingrese el segundo número: \")) #pedirle al usuario que ingrese el segundo número\n",
        "\n",
        "    resultado = num1 + num2 #especificarle al programa que el resultado es la suma de los dos numeros que ingrese la persona\n",
        "\n",
        "\n",
        "    if resultado < 200: #si el resultado es menos a 200 entonces el programa arrojará que es menos a 200\n",
        "        print(\"menor a 200\")\n",
        "    elif resultado < 250: #si el resultado es mayor a 200 pero menor a 250, el programa arrojará que es mayor a 200\n",
        "        print(\"mayor a 200\")\n",
        "    else:\n",
        "        print(\"mayor a 250\") #si el resultado es mayor a 250 el programa arrojará mayor a 250\n"
      ],
      "metadata": {
        "id": "8IzzEGdUOPzF"
      },
      "execution_count": null,
      "outputs": []
    },
    {
      "cell_type": "markdown",
      "source": [
        "Problema 4:Generar un programa que combine variables, tipos de datos y una condicional en Python (hacer una función que evalúe si el usuario es mayor de edad y si le gusta la música urbana, que envíe diferentes textos según la respuesta del usuario)"
      ],
      "metadata": {
        "id": "7b3YPlaMRplW"
      }
    },
    {
      "cell_type": "code",
      "source": [
        "# Variable 1: si la persona es chilena\n",
        "# Variable 2: Si vio Los Pulentos\n",
        "\n",
        "# preguntar si la persona es chilena\n",
        "es_chileno = input(\"¿Eres chileno? (Sí/No) \").lower()\n",
        "\n",
        "# Preguntar al usuario si vio Los Pulentos (Sí o No)\n",
        "vio_los_pulentos = input(\"¿Viste Los Pulentos? (Sí/No) \").lower()\n",
        "\n",
        "# Verificar si la persona es chilena y vio Los Pulentos\n",
        "if es_chileno == \"sí\" and vio_los_pulentos == \"sí\": #si es chileno y vio los pulentos son respondidas con un Sí, entonces:\n",
        "    print(\"¡Eres chileno y viste Los Pulentos! 🎉🎵\")\n",
        "elif es_chileno == \"sí\": #en cambio, si solo es chileno, pero a vio llos pulentos responde con un no, entonces:\n",
        "    print(\"Eres chileno, pero no viste Los Pulentos.\")\n",
        "else: #si no es chileno da lo mismo la otra variable, entonces\n",
        "    print(\"No eres chileno.\")"
      ],
      "metadata": {
        "colab": {
          "base_uri": "https://localhost:8080/"
        },
        "id": "ZGEMX8zmi9bB",
        "outputId": "863fe8a9-41a5-4209-affa-cc37a965a739"
      },
      "execution_count": 19,
      "outputs": [
        {
          "output_type": "stream",
          "name": "stdout",
          "text": [
            "¿Eres chileno? (Sí/No) Sí\n",
            "¿Viste Los Pulentos? (Sí/No) sí\n",
            "¡Eres chileno y viste Los Pulentos! 🎉🎵\n"
          ]
        }
      ]
    }
  ]
}